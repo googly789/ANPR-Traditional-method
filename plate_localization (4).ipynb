{
 "cells": [
  {
   "cell_type": "code",
   "execution_count": 305,
   "metadata": {},
   "outputs": [],
   "source": [
    "import cv2\n",
    "import random\n",
    "import os\n",
    "import numpy as np\n",
    "import matplotlib.pyplot as plt\n",
    "%matplotlib inline"
   ]
  },
  {
   "cell_type": "code",
   "execution_count": 306,
   "metadata": {
    "scrolled": false
   },
   "outputs": [
    {
     "name": "stdout",
     "output_type": "stream",
     "text": [
      "4.2.0\n"
     ]
    }
   ],
   "source": [
    "print(cv2.__version__)"
   ]
  },
  {
   "cell_type": "code",
   "execution_count": 307,
   "metadata": {
    "scrolled": true
   },
   "outputs": [],
   "source": [
    "#images_dir = \"C:/Users/COI-AI-19/Desktop/data\"\n",
    "#image_files = os.listdir(images_dir)"
   ]
  },
  {
   "cell_type": "code",
   "execution_count": 308,
   "metadata": {},
   "outputs": [],
   "source": [
    "#image_path = \"{}/{}\".format(images_dir, \"number.jpg\")"
   ]
  },
  {
   "cell_type": "code",
   "execution_count": 309,
   "metadata": {
    "scrolled": true
   },
   "outputs": [
    {
     "name": "stdout",
     "output_type": "stream",
     "text": [
      "282 175 135 45\n",
      "281 174 135 45\n",
      "281 175 135 45\n",
      "283 175 135 45\n",
      "283 175 135 45\n",
      "284 175 135 45\n",
      "284 175 135 45\n",
      "283 175 135 45\n",
      "284 175 135 45\n",
      "282 175 135 45\n",
      "283 175 135 45\n",
      "283 175 135 45\n",
      "283 175 135 45\n",
      "283 175 135 45\n",
      "283 175 135 45\n",
      "282 175 135 45\n",
      "282 175 135 45\n",
      "283 176 135 45\n",
      "283 175 135 45\n",
      "284 176 135 45\n",
      "283 176 135 45\n",
      "284 176 135 45\n",
      "283 175 135 45\n",
      "282 175 135 45\n",
      "284 174 135 45\n",
      "284 175 135 45\n",
      "285 174 135 45\n",
      "284 175 135 45\n",
      "283 175 135 45\n",
      "284 175 135 45\n"
     ]
    }
   ],
   "source": [
    "import numpy as np\n",
    "import cv2\n",
    "number_cascade = cv2.CascadeClassifier('haarcascade_russian_plate_number.xml')\n",
    "cap = cv2.VideoCapture('http://192.168.43.1:8080/video')\n",
    "count = 0\n",
    "while(True):\n",
    "    # Capture frame-by-frame\n",
    "    ret, frame = cap.read()\n",
    "\n",
    "    # Our operations on the frame come here\n",
    "    gray = cv2.cvtColor(frame, cv2.COLOR_BGR2GRAY)\n",
    "    \n",
    "    number = number_cascade.detectMultiScale(gray, scaleFactor=1.5, minNeighbors=5)\n",
    "    for (x,y,w,h) in number:\n",
    "        print(x,y,w,h)\n",
    "        r_gray = gray[y:y+h, x:x+w]\n",
    "        r_color = frame[y:y+h, x:x+w]\n",
    "        count = count +1\n",
    "        img_item = \"C:/Users/dell/Downloads/number plate/numplatestore/t1.jpg\"\n",
    "        cv2.imwrite(img_item, r_gray)\n",
    "        color = (255,0,0)\n",
    "        stroke = 2\n",
    "        end_co_x = x + w\n",
    "        end_co_y = y + h\n",
    "        cv2.rectangle(frame, (x, y), (end_co_x,end_co_y), color, stroke) \n",
    "    \n",
    "    # Display the resulting frame\n",
    "    cv2.imshow('frame',  frame )\n",
    "    \n",
    "    if cv2.waitKey(30) & 0xFF == ord('y'):\n",
    "        break\n",
    "    elif count >=30:\n",
    "        break\n",
    "cap.release()\n",
    "cv2.destroyAllWindows()"
   ]
  },
  {
   "cell_type": "code",
   "execution_count": 310,
   "metadata": {
    "scrolled": true
   },
   "outputs": [],
   "source": [
    "#images_dir = \"C:/Users/COI-AI-19/numb\"\n",
    "images_dir = \"C:/Users/dell/Downloads/number plate/numplatestore\"\n",
    "image_path = \"{}/{}\".format(images_dir, \"t1.jpg\")\n",
    "image = cv2.imread(image_path)\n",
    "gray = cv2.cvtColor(image, cv2.COLOR_BGR2GRAY)\n",
    "#ret, thresh = cv2.threshold(gray, 127, 255, 0)"
   ]
  },
  {
   "cell_type": "code",
   "execution_count": null,
   "metadata": {},
   "outputs": [],
   "source": []
  },
  {
   "cell_type": "code",
   "execution_count": 311,
   "metadata": {},
   "outputs": [],
   "source": [
    "def plot_images(img1, img2, title1=\"\", title2=\"\"):\n",
    "    fig = plt.figure(figsize=[15,15])\n",
    "    ax1 = fig.add_subplot(121)\n",
    "    ax1.imshow(img1, cmap=\"gray\")\n",
    "    ax1.set(xticks=[], yticks=[], title=title1)\n",
    "\n",
    "    ax2 = fig.add_subplot(122)\n",
    "    ax2.imshow(img2, cmap=\"gray\")\n",
    "    ax2.set(xticks=[], yticks=[], title=title2)"
   ]
  },
  {
   "cell_type": "code",
   "execution_count": 312,
   "metadata": {
    "scrolled": false
   },
   "outputs": [
    {
     "data": {
      "image/png": "[encoded data removed]",
      "text/plain": [
       "<Figure size 1080x1080 with 2 Axes>"
      ]
     },
     "metadata": {},
     "output_type": "display_data"
    }
   ],
   "source": [
    "plot_images(image, gray )"
   ]
  },
  {
   "cell_type": "code",
   "execution_count": 313,
   "metadata": {},
   "outputs": [],
   "source": [
    "#import numpy as np\n",
    "#import argparse\n",
    "#import cv2\n",
    "# construct the argument parse and parse the arguments\n",
    "#ap = argparse.ArgumentParser()\n",
    "#ap.add_argument(\"-i\", \"--image\", required=True,help=\"numb/number.jpg\")\n",
    "#args = vars(ap.parse_args())\n",
    "# load the image from disk\n",
    "#image = cv2.imread(args[\"image\"])"
   ]
  },
  {
   "cell_type": "code",
   "execution_count": 314,
   "metadata": {},
   "outputs": [],
   "source": [
    "blur = cv2.bilateralFilter(gray, 11,90, 90)"
   ]
  },
  {
   "cell_type": "code",
   "execution_count": 315,
   "metadata": {
    "scrolled": true
   },
   "outputs": [
    {
     "data": {
      "image/png": "[encoded data removed]",
      "text/plain": [
       "<Figure size 1080x1080 with 2 Axes>"
      ]
     },
     "metadata": {},
     "output_type": "display_data"
    }
   ],
   "source": [
    "plot_images(gray, blur)"
   ]
  },
  {
   "cell_type": "code",
   "execution_count": 316,
   "metadata": {},
   "outputs": [],
   "source": [
    "edges = cv2.Canny(blur, 30, 200)\n"
   ]
  },
  {
   "cell_type": "code",
   "execution_count": 317,
   "metadata": {
    "scrolled": false
   },
   "outputs": [
    {
     "data": {
      "image/png": "[encoded data removed]",
      "text/plain": [
       "<Figure size 1080x1080 with 2 Axes>"
      ]
     },
     "metadata": {},
     "output_type": "display_data"
    }
   ],
   "source": [
    "plot_images(blur, edges)"
   ]
  },
  {
   "cell_type": "code",
   "execution_count": 318,
   "metadata": {},
   "outputs": [],
   "source": [
    "cnts, new = cv2.findContours(edges, cv2.RETR_LIST, cv2.CHAIN_APPROX_SIMPLE)"
   ]
  },
  {
   "cell_type": "code",
   "execution_count": 319,
   "metadata": {},
   "outputs": [],
   "source": [
    "image_copy = image.copy()"
   ]
  },
  {
   "cell_type": "code",
   "execution_count": 320,
   "metadata": {},
   "outputs": [],
   "source": [
    "_ = cv2.drawContours(image_copy, cnts, -1, (255,0,255),2)"
   ]
  },
  {
   "cell_type": "code",
   "execution_count": 321,
   "metadata": {
    "scrolled": false
   },
   "outputs": [
    {
     "data": {
      "image/png": "[encoded data removed]",
      "text/plain": [
       "<Figure size 1080x1080 with 2 Axes>"
      ]
     },
     "metadata": {},
     "output_type": "display_data"
    }
   ],
   "source": [
    "plot_images(image, image_copy)"
   ]
  },
  {
   "cell_type": "code",
   "execution_count": 322,
   "metadata": {},
   "outputs": [],
   "source": [
    "cnts = sorted(cnts, key=cv2.contourArea, reverse=True)[:30]"
   ]
  },
  {
   "cell_type": "code",
   "execution_count": 323,
   "metadata": {},
   "outputs": [],
   "source": [
    "image_copy = image.copy()\n",
    "_ = cv2.drawContours(image_copy, cnts, -1, (255,0,255),2)"
   ]
  },
  {
   "cell_type": "code",
   "execution_count": 324,
   "metadata": {
    "scrolled": false
   },
   "outputs": [
    {
     "data": {
      "image/png": "[encoded data removed]",
      "text/plain": [
       "<Figure size 1080x1080 with 2 Axes>"
      ]
     },
     "metadata": {},
     "output_type": "display_data"
    }
   ],
   "source": [
    "plot_images(image, image_copy)"
   ]
  },
  {
   "cell_type": "code",
   "execution_count": 325,
   "metadata": {
    "scrolled": false
   },
   "outputs": [
    {
     "data": {
      "text/plain": [
       "True"
      ]
     },
     "execution_count": 325,
     "metadata": {},
     "output_type": "execute_result"
    }
   ],
   "source": [
    "plate = None\n",
    "for c in cnts:\n",
    "    perimeter = cv2.arcLength(c, True)\n",
    "    edges_count = cv2.approxPolyDP(c, 0.02 * perimeter, True)\n",
    "    if len(edges_count) == 4:\n",
    "        x,y,w,h = cv2.boundingRect(c)\n",
    "        plate = image[y:y+h, x:x+w]\n",
    "        break\n",
    "\n",
    "cv2.imwrite(\"plate.png\", plate)"
   ]
  },
  {
   "cell_type": "code",
   "execution_count": 326,
   "metadata": {
    "scrolled": false
   },
   "outputs": [
    {
     "data": {
      "image/png": "[encoded data removed]",
      "text/plain": [
       "<Figure size 1080x1080 with 2 Axes>"
      ]
     },
     "metadata": {},
     "output_type": "display_data"
    }
   ],
   "source": [
    "plot_images(plate, plate)"
   ]
  },
  {
   "cell_type": "code",
   "execution_count": null,
   "metadata": {
    "scrolled": false
   },
   "outputs": [],
   "source": []
  },
  {
   "cell_type": "code",
   "execution_count": 327,
   "metadata": {},
   "outputs": [],
   "source": [
    "#print(text)"
   ]
  },
  {
   "cell_type": "code",
   "execution_count": 328,
   "metadata": {},
   "outputs": [],
   "source": [
    "import cv2\n",
    "import numpy as np\n",
    "import pandas as pd\n",
    "\n",
    "\n",
    "def segment_characters(image) :\n",
    "\n",
    "\n",
    "\n",
    "    # Preprocess cropped license plate image\n",
    "\n",
    "    img = cv2.resize(image, (333, 75))\n",
    "\n",
    "    img_gray = cv2.cvtColor(img, cv2.COLOR_BGR2GRAY)\n",
    "\n",
    "    _, img_binary = cv2.threshold(img_gray, 200, 255, cv2.THRESH_BINARY+cv2.THRESH_OTSU)\n",
    "\n",
    "    img_erode = cv2.erode(img_binary, (3,3))\n",
    "\n",
    "    img_dilate = cv2.dilate(img_erode, (3,3))\n",
    "\n",
    "\n",
    "\n",
    "    LP_WIDTH = img_dilate.shape[0]\n",
    "\n",
    "    LP_HEIGHT = img_dilate.shape[1]\n",
    "\n",
    "\n",
    "\n",
    "    # Make borders white\n",
    "\n",
    "    img_dilate[0:3,:] = 255\n",
    "\n",
    "    img_dilate[:,0:3] = 255\n",
    "\n",
    "    img_dilate[72:75,:] = 255\n",
    "\n",
    "    img_dilate[:,330:333] = 255\n",
    "\n",
    "\n",
    "\n",
    "    # Estimations of character contours sizes of cropped license plates\n",
    "\n",
    "    dimensions = [LP_WIDTH/6, LP_WIDTH/2, LP_HEIGHT/10, 2*LP_HEIGHT/3]\n",
    "\n",
    "\n",
    "\n",
    "    # Get contours within cropped license plate\n",
    "\n",
    "    char_list = find_contours(dimensions, img_dilate)\n",
    "\n",
    "\n",
    "\n",
    "    return char_list\n",
    "\n",
    "import numpy as np\n",
    "\n",
    "import cv2\n",
    "\n",
    "\n",
    "\n",
    "# Match contours to license plate or character template\n",
    "\n",
    "def find_contours(dimensions, img) :\n",
    "\n",
    "\n",
    "\n",
    "    # Find all contours in the image\n",
    "\n",
    "    cntrs, _ = cv2.findContours(img.copy(), cv2.RETR_TREE, cv2.CHAIN_APPROX_SIMPLE)\n",
    "\n",
    "\n",
    "\n",
    "    # Retrieve potential dimensions\n",
    "\n",
    "    lower_width = dimensions[0]\n",
    "\n",
    "    upper_width = dimensions[1]\n",
    "\n",
    "    lower_height = dimensions[2]\n",
    "\n",
    "    upper_height = dimensions[3]\n",
    "\n",
    "    \n",
    "\n",
    "\n",
    "\n",
    "    # Check largest 5 or  15 contours for license plate or character respectively\n",
    "\n",
    "    cntrs = sorted(cntrs, key=cv2.contourArea, reverse=True)[:15]\n",
    "\n",
    "\n",
    "\n",
    "    x_cntr_list = []\n",
    "\n",
    "    target_contours = []\n",
    "\n",
    "    img_res = []\n",
    "\n",
    "    for cntr in cntrs :\n",
    "\n",
    "        #detects contour in binary image and returns the coordinates of rectangle enclosing it\n",
    "\n",
    "        intX, intY, intWidth, intHeight = cv2.boundingRect(cntr)\n",
    "\n",
    "        \n",
    "\n",
    "        #checking the dimensions of the contour to filter out the characters by contour's size\n",
    "\n",
    "        if intWidth > lower_width and intWidth < upper_width and intHeight > lower_height and intHeight < upper_height :\n",
    "\n",
    "            x_cntr_list.append(intX) #stores the x coordinate of the character's contour, to used later for indexing the contours\n",
    "\n",
    "\n",
    "\n",
    "            char_copy = np.zeros((44,24))\n",
    "\n",
    "            #extracting each character using the enclosing rectangle's coordinates.\n",
    "\n",
    "            char = img[intY:intY+intHeight, intX:intX+intWidth]\n",
    "\n",
    "            char = cv2.resize(char, (20, 40))\n",
    "\n",
    "\n",
    "\n",
    "            # Make result formatted for classification: invert colors\n",
    "\n",
    "            char = cv2.subtract(255, char)\n",
    "\n",
    "\n",
    "\n",
    "            # Resize the image to 24x44 with black border\n",
    "\n",
    "            char_copy[2:42, 2:22] = char\n",
    "\n",
    "            char_copy[0:2, :] = 0\n",
    "\n",
    "            char_copy[:, 0:2] = 0\n",
    "\n",
    "            char_copy[42:44, :] = 0\n",
    "\n",
    "            char_copy[:, 22:24] = 0\n",
    "\n",
    "\n",
    "\n",
    "            img_res.append(char_copy) #List that stores the character's binary image (unsorted)\n",
    "\n",
    "\n",
    "\n",
    "    #Return characters on ascending order with respect to the x-coordinate (most-left character first)\n",
    "\n",
    "    \n",
    "\n",
    "    #arbitrary function that stores sorted list of character indeces\n",
    "\n",
    "    indices = sorted(range(len(x_cntr_list)), key=lambda k: x_cntr_list[k])\n",
    "\n",
    "    img_res_copy = []\n",
    "\n",
    "    for idx in indices:\n",
    "\n",
    "        img_res_copy.append(img_res[idx])# stores character images according to their index\n",
    "\n",
    "    img_res = np.array(img_res_copy)\n",
    "\n",
    "\n",
    "\n",
    "    return img_res"
   ]
  },
  {
   "cell_type": "code",
   "execution_count": 329,
   "metadata": {
    "scrolled": true
   },
   "outputs": [
    {
     "name": "stdout",
     "output_type": "stream",
     "text": [
      "10\n"
     ]
    },
    {
     "data": {
      "image/png": "[encoded data removed]",
      "text/plain": [
       "<Figure size 432x288 with 10 Axes>"
      ]
     },
     "metadata": {
      "needs_background": "light"
     },
     "output_type": "display_data"
    }
   ],
   "source": [
    "n=len(segment_characters(plate))\n",
    "print(n)\n",
    "if n == 10:\n",
    "    x1,x2,x3,x4,x5,x6,y1,y2,y3,y4 = np.asarray(segment_characters(plate))\n",
    "    images =[x1,x2,x3,x4,x5,x6,y1,y2,y3,y4]\n",
    "    images1 =[x1,x2]\n",
    "    images2 = [x3,x4]\n",
    "    images3 = [x5,x6]\n",
    "    images4 = [y1,y2,y3,y4]\n",
    "    for i in range(10):\n",
    "    \n",
    "        plt.subplot(1,10,i+1),plt.imshow(images[i],'gray')\n",
    "elif n == 9:\n",
    "    x1,x2,x3,x4,x5,y1,y2,y3,y4 = np.asarray(segment_characters(plate))\n",
    "    images =[x1,x2,x3,x4,x5,y1,y2,y3,y4]\n",
    "    images1 =[x1,x2]\n",
    "    images2 = [x3,x4]\n",
    "    images3 = [x5]\n",
    "    images4 = [y1,y2,y3,y4]\n",
    "    for i in range(9):\n",
    "    \n",
    "        plt.subplot(1,9,i+1),plt.imshow(images[i],'gray')\n",
    "    "
   ]
  },
  {
   "cell_type": "code",
   "execution_count": null,
   "metadata": {},
   "outputs": [],
   "source": []
  },
  {
   "cell_type": "code",
   "execution_count": null,
   "metadata": {
    "scrolled": true
   },
   "outputs": [],
   "source": [
    "\n",
    "\n"
   ]
  },
  {
   "cell_type": "code",
   "execution_count": 330,
   "metadata": {
    "scrolled": true
   },
   "outputs": [],
   "source": [
    "from keras.models import load_model\n",
    "model1 = load_model('model1.h5')\n",
    "model = load_model('model.h5')"
   ]
  },
  {
   "cell_type": "code",
   "execution_count": 331,
   "metadata": {},
   "outputs": [
    {
     "name": "stdout",
     "output_type": "stream",
     "text": [
      "02\n"
     ]
    }
   ],
   "source": [
    "def show_results2(image):\n",
    "    dic = {}\n",
    "    characters ='0123456789'\n",
    "    for i,c in enumerate(characters):\n",
    "        dic[i] = c\n",
    "\n",
    "    output = []\n",
    "    for i,ch in enumerate(image): #iterating over the characters\n",
    "        img = cv2.resize(ch, (28,28))\n",
    "        #img = fix_dimension(img_)\n",
    "        img = img.reshape(1,28,28,1) #preparing image for the model\n",
    "        y_ = model1.predict_classes(img)[0]\n",
    "        \n",
    "        #predicting the class\n",
    "        character = dic[y_] #\n",
    "        output.append(character) #storing the result in a list\n",
    "        \n",
    "    plate_number = ''.join(output)\n",
    "    \n",
    "    return plate_number\n",
    "\n",
    "print(show_results2(images2))"
   ]
  },
  {
   "cell_type": "code",
   "execution_count": 332,
   "metadata": {
    "scrolled": true
   },
   "outputs": [
    {
     "name": "stdout",
     "output_type": "stream",
     "text": [
      "OD\n"
     ]
    }
   ],
   "source": [
    "def show_results1(image):\n",
    "    dic = {}\n",
    "    characters =' ABCDEFGHIJKLMNOPQRSTUVWXYZ0123456789'\n",
    "    for i,c in enumerate(characters):\n",
    "        dic[i] = c\n",
    "\n",
    "    output = []\n",
    "    for i,ch in enumerate(image): #iterating over the characters\n",
    "        img = cv2.resize(ch, (28,28))\n",
    "        #img = fix_dimension(img_)\n",
    "        img = img.reshape(1,28,28,1) #preparing image for the model\n",
    "        y_ = model.predict_classes(img)[0]\n",
    "        \n",
    "        #predicting the class\n",
    "        character = dic[y_] #\n",
    "        output.append(character) #storing the result in a list\n",
    "        \n",
    "    plate_number = ''.join(output)\n",
    "    \n",
    "    return plate_number\n",
    "\n",
    "print(show_results1(images1))"
   ]
  },
  {
   "cell_type": "code",
   "execution_count": 333,
   "metadata": {
    "scrolled": false
   },
   "outputs": [
    {
     "name": "stdout",
     "output_type": "stream",
     "text": [
      "OD02BG3530\n"
     ]
    }
   ],
   "source": [
    "APNR_num = show_results1(images1)+show_results2(images2)+show_results1(images3)+show_results2(images4)\n",
    "print(APNR_num)"
   ]
  },
  {
   "cell_type": "code",
   "execution_count": null,
   "metadata": {},
   "outputs": [],
   "source": []
  },
  {
   "cell_type": "code",
   "execution_count": null,
   "metadata": {},
   "outputs": [],
   "source": []
  },
  {
   "cell_type": "code",
   "execution_count": 334,
   "metadata": {},
   "outputs": [
    {
     "name": "stderr",
     "output_type": "stream",
     "text": [
      "C:\\Users\\dell\\Anaconda3\\lib\\site-packages\\ipykernel_launcher.py:5: DeprecationWarning: Call to deprecated function get_sheet_by_name (Use wb[sheetname]).\n",
      "  \"\"\"\n"
     ]
    }
   ],
   "source": [
    "import openpyxl as xl\n",
    "import pandas as pd\n",
    "\n",
    "wb = xl.load_workbook('demo.xlsx')\n",
    "ws = wb.get_sheet_by_name('Sheet1')\n",
    "df = pd.read_excel('demo.xlsx')\n",
    "\n",
    "def replace_first_null(df, col_name, value):\n",
    "    \"\"\"\n",
    "    Replace the first null value in DataFrame df.`col_name`\n",
    "    with `value`.\n",
    "    \"\"\"\n",
    "    return_df = df.copy()\n",
    "    idx = list(df.index)\n",
    "    last_valid = df[col_name].last_valid_index()\n",
    "    last_valid_row_number = idx.index(last_valid)\n",
    "    # This next line has mixed number and string indexing\n",
    "    # but it should be ok, since df is coming from an\n",
    "    # Excel sheet and should have a consecutive index\n",
    "    return_df.loc[last_valid_row_number + 1, col_name] = value\n",
    "    return return_df\n",
    "\n",
    "def write_df_to_worksheet(ws, df):\n",
    "    \"\"\"\n",
    "    Write the values in df to the worksheet ws in place\n",
    "    \"\"\"\n",
    "    for i, col in enumerate(replaced):\n",
    "        for j, val in enumerate(replaced[col]):\n",
    "            if not pd.isnull(val):\n",
    "                # Python is zero indexed, so add one\n",
    "                # (plus an extra one to take account\n",
    "                #  of the header row!)\n",
    "                ws.cell(row=j+2 , column=i + 1).value = val\n",
    "\n",
    "# Here's the actual replacing happening\n",
    "replaced = replace_first_null(df,'VEHICLE NUMBER', APNR_num)\n",
    "write_df_to_worksheet(ws, df)\n",
    "wb.save('demo.xlsx')"
   ]
  },
  {
   "cell_type": "code",
   "execution_count": 335,
   "metadata": {},
   "outputs": [],
   "source": [
    "#x1 = cv2.resize(x1,(28,28))\n",
    "#print(x1)\n",
    "#print(x1.reshape(1,784))\n",
    "#import pandas as pd \n",
    "#pd.DataFrame(x1).to_csv(\"demo.csv\")"
   ]
  },
  {
   "cell_type": "code",
   "execution_count": null,
   "metadata": {},
   "outputs": [],
   "source": []
  },
  {
   "cell_type": "code",
   "execution_count": 336,
   "metadata": {
    "scrolled": true
   },
   "outputs": [
    {
     "name": "stderr",
     "output_type": "stream",
     "text": [
      "C:\\Users\\dell\\Anaconda3\\lib\\site-packages\\ipykernel_launcher.py:5: DeprecationWarning: Call to deprecated function get_sheet_by_name (Use wb[sheetname]).\n",
      "  \"\"\"\n"
     ]
    }
   ],
   "source": [
    "import openpyxl as xl\n",
    "import pandas as pd\n",
    "\n",
    "wb = xl.load_workbook('authorize.xlsx')\n",
    "ws = wb.get_sheet_by_name('Sheet1')\n",
    "df = pd.read_excel('authorize.xlsx')\n",
    "\n"
   ]
  },
  {
   "cell_type": "code",
   "execution_count": 337,
   "metadata": {},
   "outputs": [
    {
     "name": "stdout",
     "output_type": "stream",
     "text": [
      "Authorize number:OD02BG3530/ IPSIT MISRA/ Lic. NO. 1213141415516516167\n",
      "...... YOU CAN GO NOW!!!!!!\n"
     ]
    }
   ],
   "source": [
    "count = 0\n",
    "max_row=ws.max_row\n",
    "# get max column count\n",
    "max_column=ws.max_column\n",
    "# iterate over all cells \n",
    "# iterate over all rows\n",
    "for i in range(3,max_row+1):\n",
    "     \n",
    "     # iterate over all columns\n",
    "     for j in range(1,max_column+1):\n",
    "            cell_obj=ws.cell(row=i,column=j)\n",
    "            if APNR_num == cell_obj.value :\n",
    "                print('Authorize number:'+ APNR_num + '/', ws.cell(row=i,column=j+1).value + '/', ws.cell(row=i,column=j+2).value+'\\n...... YOU CAN GO NOW!!!!!!' )\n",
    "                break\n",
    "            else:\n",
    "                count = count +1\n",
    "                break\n",
    "                        \n",
    "               \n",
    "               \n",
    "Y = max_row-2\n",
    "\n",
    "if count == Y:\n",
    "    print('Not a Authorize number \\n.........NOT ALLOW!!!!!')\n",
    "     \n",
    "\n",
    "    \n",
    "    \n",
    "    \n",
    "       \n",
    "            \n",
    "     # print new line\n",
    "    # print('\\n')"
   ]
  },
  {
   "cell_type": "code",
   "execution_count": null,
   "metadata": {},
   "outputs": [],
   "source": []
  },
  {
   "cell_type": "code",
   "execution_count": null,
   "metadata": {},
   "outputs": [],
   "source": []
  },
  {
   "cell_type": "code",
   "execution_count": null,
   "metadata": {},
   "outputs": [],
   "source": []
  },
  {
   "cell_type": "code",
   "execution_count": null,
   "metadata": {},
   "outputs": [],
   "source": []
  },
  {
   "cell_type": "code",
   "execution_count": null,
   "metadata": {},
   "outputs": [],
   "source": []
  }
 ],
 "metadata": {
  "kernelspec": {
   "display_name": "Python 3",
   "language": "python",
   "name": "python3"
  },
  "language_info": {
   "codemirror_mode": {
    "name": "ipython",
    "version": 3
   },
   "file_extension": ".py",
   "mimetype": "text/x-python",
   "name": "python",
   "nbconvert_exporter": "python",
   "pygments_lexer": "ipython3",
   "version": "3.7.4"
  }
 },
 "nbformat": 4,
 "nbformat_minor": 2
}
