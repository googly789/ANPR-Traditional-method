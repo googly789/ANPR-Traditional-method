{
 "cells": [
  {
   "cell_type": "code",
   "execution_count": 1,
   "metadata": {},
   "outputs": [],
   "source": [
    "import cv2\n",
    "import random\n",
    "import os\n",
    "import numpy as np\n",
    "import matplotlib.pyplot as plt\n",
    "%matplotlib inline"
   ]
  },
  {
   "cell_type": "code",
   "execution_count": 2,
   "metadata": {
    "scrolled": true
   },
   "outputs": [
    {
     "name": "stdout",
     "output_type": "stream",
     "text": [
      "4.2.0\n"
     ]
    }
   ],
   "source": [
    "print(cv2.__version__)"
   ]
  },
  {
   "cell_type": "code",
   "execution_count": 3,
   "metadata": {
    "scrolled": true
   },
   "outputs": [
    {
     "ename": "FileNotFoundError",
     "evalue": "[WinError 3] The system cannot find the path specified: 'C:/Users/COI-AI-19/Desktop/data'",
     "output_type": "error",
     "traceback": [
      "\u001b[1;31m---------------------------------------------------------------------------\u001b[0m",
      "\u001b[1;31mFileNotFoundError\u001b[0m                         Traceback (most recent call last)",
      "\u001b[1;32m<ipython-input-3-a126894e3db2>\u001b[0m in \u001b[0;36m<module>\u001b[1;34m\u001b[0m\n\u001b[0;32m      1\u001b[0m \u001b[0mimages_dir\u001b[0m \u001b[1;33m=\u001b[0m \u001b[1;34m\"C:/Users/COI-AI-19/Desktop/data\"\u001b[0m\u001b[1;33m\u001b[0m\u001b[1;33m\u001b[0m\u001b[0m\n\u001b[1;32m----> 2\u001b[1;33m \u001b[0mimage_files\u001b[0m \u001b[1;33m=\u001b[0m \u001b[0mos\u001b[0m\u001b[1;33m.\u001b[0m\u001b[0mlistdir\u001b[0m\u001b[1;33m(\u001b[0m\u001b[0mimages_dir\u001b[0m\u001b[1;33m)\u001b[0m\u001b[1;33m\u001b[0m\u001b[1;33m\u001b[0m\u001b[0m\n\u001b[0m",
      "\u001b[1;31mFileNotFoundError\u001b[0m: [WinError 3] The system cannot find the path specified: 'C:/Users/COI-AI-19/Desktop/data'"
     ]
    }
   ],
   "source": [
    "images_dir = \"C:/Users/COI-AI-19/Desktop/data\"\n",
    "image_files = os.listdir(images_dir)"
   ]
  },
  {
   "cell_type": "code",
   "execution_count": null,
   "metadata": {},
   "outputs": [],
   "source": [
    "image_path = \"{}/{}\".format(images_dir, \"26.jpg\")"
   ]
  },
  {
   "cell_type": "code",
   "execution_count": null,
   "metadata": {
    "scrolled": false
   },
   "outputs": [],
   "source": [
    "image = cv2.imread(image_path)\n",
    "gray = cv2.cvtColor(image, cv2.COLOR_BGR2GRAY)"
   ]
  },
  {
   "cell_type": "code",
   "execution_count": null,
   "metadata": {},
   "outputs": [],
   "source": [
    "def plot_images(img1, img2, title1=\"\", title2=\"\"):\n",
    "    fig = plt.figure(figsize=[15,15])\n",
    "    ax1 = fig.add_subplot(121)\n",
    "    ax1.imshow(img1, cmap=\"gray\")\n",
    "    ax1.set(xticks=[], yticks=[], title=title1)\n",
    "\n",
    "    ax2 = fig.add_subplot(122)\n",
    "    ax2.imshow(img2, cmap=\"gray\")\n",
    "    ax2.set(xticks=[], yticks=[], title=title2)"
   ]
  },
  {
   "cell_type": "code",
   "execution_count": null,
   "metadata": {
    "scrolled": true
   },
   "outputs": [],
   "source": [
    "plot_images(image, gray)"
   ]
  },
  {
   "cell_type": "code",
   "execution_count": null,
   "metadata": {},
   "outputs": [],
   "source": [
    "blur = cv2.bilateralFilter(gray, 11,90, 90)"
   ]
  },
  {
   "cell_type": "code",
   "execution_count": null,
   "metadata": {
    "scrolled": false
   },
   "outputs": [],
   "source": [
    "plot_images(gray, blur)"
   ]
  },
  {
   "cell_type": "code",
   "execution_count": null,
   "metadata": {},
   "outputs": [],
   "source": [
    "edges = cv2.Canny(blur, 30, 200)"
   ]
  },
  {
   "cell_type": "code",
   "execution_count": null,
   "metadata": {
    "scrolled": false
   },
   "outputs": [],
   "source": [
    "plot_images(blur, edges)"
   ]
  },
  {
   "cell_type": "code",
   "execution_count": null,
   "metadata": {},
   "outputs": [],
   "source": [
    "cnts, new = cv2.findContours(edges.copy(), cv2.RETR_LIST, cv2.CHAIN_APPROX_SIMPLE)"
   ]
  },
  {
   "cell_type": "code",
   "execution_count": null,
   "metadata": {},
   "outputs": [],
   "source": [
    "image_copy = image.copy()"
   ]
  },
  {
   "cell_type": "code",
   "execution_count": null,
   "metadata": {},
   "outputs": [],
   "source": [
    "_ = cv2.drawContours(image_copy, cnts, -1, (255,0,255),2)"
   ]
  },
  {
   "cell_type": "code",
   "execution_count": null,
   "metadata": {
    "scrolled": false
   },
   "outputs": [],
   "source": [
    "plot_images(image, image_copy)"
   ]
  },
  {
   "cell_type": "code",
   "execution_count": null,
   "metadata": {},
   "outputs": [],
   "source": [
    "cnts = sorted(cnts, key=cv2.contourArea, reverse=True)[:10]"
   ]
  },
  {
   "cell_type": "code",
   "execution_count": null,
   "metadata": {},
   "outputs": [],
   "source": [
    "image_copy = image.copy()\n",
    "_ = cv2.drawContours(image_copy, cnts, -1, (255,0,255),2)"
   ]
  },
  {
   "cell_type": "code",
   "execution_count": null,
   "metadata": {
    "scrolled": true
   },
   "outputs": [],
   "source": [
    "plot_images(image, image_copy)"
   ]
  },
  {
   "cell_type": "code",
   "execution_count": null,
   "metadata": {
    "scrolled": false
   },
   "outputs": [],
   "source": [
    "plate = None\n",
    "for c in cnts:\n",
    "    perimeter = cv2.arcLength(c, True)\n",
    "    edges_count = cv2.approxPolyDP(c, 0.02 * perimeter, True)\n",
    "    if len(edges_count) == 4:\n",
    "        x,y,w,h = cv2.boundingRect(c)\n",
    "        plate = image[y:y+h, x:x+w]\n",
    "        break\n",
    "\n",
    "cv2.imwrite(\"plate.png\", plate)"
   ]
  },
  {
   "cell_type": "code",
   "execution_count": null,
   "metadata": {
    "scrolled": false
   },
   "outputs": [],
   "source": [
    "plot_images(plate, plate)"
   ]
  },
  {
   "cell_type": "code",
   "execution_count": null,
   "metadata": {
    "scrolled": true
   },
   "outputs": [],
   "source": [
    "#import pytesseract\n",
    "#text = pytesseract.image_to_string(plate, lang=\"eng\")"
   ]
  },
  {
   "cell_type": "code",
   "execution_count": null,
   "metadata": {},
   "outputs": [],
   "source": [
    "#print(text)"
   ]
  },
  {
   "cell_type": "code",
   "execution_count": null,
   "metadata": {},
   "outputs": [],
   "source": [
    "import cv2\n",
    "import numpy as np\n",
    "import pandas as pd\n",
    "import keras\n",
    "from keras.models import Sequential\n",
    "from keras.layers import Dense\n",
    "from keras.layers import Dropout\n",
    "from keras.layers import Flatten, MaxPool2D\n",
    "from keras.layers.convolutional import Conv2D\n",
    "from keras.layers.convolutional import MaxPooling2D\n",
    "from keras import backend as K\n",
    "from keras.utils import np_utils\n",
    "from sklearn.model_selection import train_test_split\n",
    "from keras.layers import Activation\n",
    "\n",
    "\n",
    "def segment_characters(image) :\n",
    "\n",
    "\n",
    "\n",
    "    # Preprocess cropped license plate image\n",
    "\n",
    "    img = cv2.resize(image, (333, 75))\n",
    "\n",
    "    img_gray = cv2.cvtColor(img, cv2.COLOR_BGR2GRAY)\n",
    "\n",
    "    _, img_binary = cv2.threshold(img_gray, 200, 255, cv2.THRESH_BINARY+cv2.THRESH_OTSU)\n",
    "\n",
    "    img_erode = cv2.erode(img_binary, (3,3))\n",
    "\n",
    "    img_dilate = cv2.dilate(img_erode, (3,3))\n",
    "\n",
    "\n",
    "\n",
    "    LP_WIDTH = img_dilate.shape[0]\n",
    "\n",
    "    LP_HEIGHT = img_dilate.shape[1]\n",
    "\n",
    "\n",
    "\n",
    "    # Make borders white\n",
    "\n",
    "    img_dilate[0:3,:] = 255\n",
    "\n",
    "    img_dilate[:,0:3] = 255\n",
    "\n",
    "    img_dilate[72:75,:] = 255\n",
    "\n",
    "    img_dilate[:,330:333] = 255\n",
    "\n",
    "\n",
    "\n",
    "    # Estimations of character contours sizes of cropped license plates\n",
    "\n",
    "    dimensions = [LP_WIDTH/6, LP_WIDTH/2, LP_HEIGHT/10, 2*LP_HEIGHT/3]\n",
    "\n",
    "\n",
    "\n",
    "    # Get contours within cropped license plate\n",
    "\n",
    "    char_list = find_contours(dimensions, img_dilate)\n",
    "\n",
    "\n",
    "\n",
    "    return char_list\n",
    "\n",
    "import numpy as np\n",
    "\n",
    "import cv2\n",
    "\n",
    "\n",
    "\n",
    "# Match contours to license plate or character template\n",
    "\n",
    "def find_contours(dimensions, img) :\n",
    "\n",
    "\n",
    "\n",
    "    # Find all contours in the image\n",
    "\n",
    "    cntrs, _ = cv2.findContours(img.copy(), cv2.RETR_TREE, cv2.CHAIN_APPROX_SIMPLE)\n",
    "\n",
    "\n",
    "\n",
    "    # Retrieve potential dimensions\n",
    "\n",
    "    lower_width = dimensions[0]\n",
    "\n",
    "    upper_width = dimensions[1]\n",
    "\n",
    "    lower_height = dimensions[2]\n",
    "\n",
    "    upper_height = dimensions[3]\n",
    "\n",
    "    \n",
    "\n",
    "\n",
    "\n",
    "    # Check largest 5 or  15 contours for license plate or character respectively\n",
    "\n",
    "    cntrs = sorted(cntrs, key=cv2.contourArea, reverse=True)[:15]\n",
    "\n",
    "\n",
    "\n",
    "    x_cntr_list = []\n",
    "\n",
    "    target_contours = []\n",
    "\n",
    "    img_res = []\n",
    "\n",
    "    for cntr in cntrs :\n",
    "\n",
    "        #detects contour in binary image and returns the coordinates of rectangle enclosing it\n",
    "\n",
    "        intX, intY, intWidth, intHeight = cv2.boundingRect(cntr)\n",
    "\n",
    "        \n",
    "\n",
    "        #checking the dimensions of the contour to filter out the characters by contour's size\n",
    "\n",
    "        if intWidth > lower_width and intWidth < upper_width and intHeight > lower_height and intHeight < upper_height :\n",
    "\n",
    "            x_cntr_list.append(intX) #stores the x coordinate of the character's contour, to used later for indexing the contours\n",
    "\n",
    "\n",
    "\n",
    "            char_copy = np.zeros((44,24))\n",
    "\n",
    "            #extracting each character using the enclosing rectangle's coordinates.\n",
    "\n",
    "            char = img[intY:intY+intHeight, intX:intX+intWidth]\n",
    "\n",
    "            char = cv2.resize(char, (20, 40))\n",
    "\n",
    "\n",
    "\n",
    "            # Make result formatted for classification: invert colors\n",
    "\n",
    "            char = cv2.subtract(255, char)\n",
    "\n",
    "\n",
    "\n",
    "            # Resize the image to 24x44 with black border\n",
    "\n",
    "            char_copy[2:42, 2:22] = char\n",
    "\n",
    "            char_copy[0:2, :] = 0\n",
    "\n",
    "            char_copy[:, 0:2] = 0\n",
    "\n",
    "            char_copy[42:44, :] = 0\n",
    "\n",
    "            char_copy[:, 22:24] = 0\n",
    "\n",
    "\n",
    "\n",
    "            img_res.append(char_copy) #List that stores the character's binary image (unsorted)\n",
    "\n",
    "\n",
    "\n",
    "    #Return characters on ascending order with respect to the x-coordinate (most-left character first)\n",
    "\n",
    "    \n",
    "\n",
    "    #arbitrary function that stores sorted list of character indeces\n",
    "\n",
    "    indices = sorted(range(len(x_cntr_list)), key=lambda k: x_cntr_list[k])\n",
    "\n",
    "    img_res_copy = []\n",
    "\n",
    "    for idx in indices:\n",
    "\n",
    "        img_res_copy.append(img_res[idx])# stores character images according to their index\n",
    "\n",
    "    img_res = np.array(img_res_copy)\n",
    "\n",
    "\n",
    "\n",
    "    return img_res"
   ]
  },
  {
   "cell_type": "code",
   "execution_count": null,
   "metadata": {
    "scrolled": true
   },
   "outputs": [],
   "source": [
    "n=len(segment_characters(plate))\n",
    "print(n)\n",
    "x1,x2,x3,x4,x5,x6,y1,y2,y3,y4 = np.asarray(segment_characters(plate))\n",
    "images =[x1,x2,x3,x4,x5,x6,y1,y2,y3,y4]\n",
    "images1 =[x1,x2]\n",
    "images2 = [x3,x4]\n",
    "images3 = [x5,x6]\n",
    "images4 = [y1,y2,y3,y4]\n",
    "for i in range(10):\n",
    "    \n",
    "    plt.subplot(1,10,i+1),plt.imshow(images[i],'gray')\n",
    "    "
   ]
  },
  {
   "cell_type": "code",
   "execution_count": null,
   "metadata": {},
   "outputs": [],
   "source": [
    "import cv2\n",
    "import numpy as np\n",
    "import pandas as pd\n",
    "import keras\n",
    "from keras.models import Sequential\n",
    "from keras.layers import Dense\n",
    "from keras.layers import Dropout\n",
    "from keras.layers import Flatten, MaxPool2D\n",
    "from keras.layers.convolutional import Conv2D\n",
    "from keras.layers.convolutional import MaxPooling2D\n",
    "from keras import backend as K\n",
    "from keras.utils import np_utils\n",
    "from sklearn.model_selection import train_test_split\n",
    "from keras.layers import Activation\n",
    "model1 = Sequential() \n",
    "model1.add(Conv2D(32, (5,5), input_shape=(28, 28, 1))) \n",
    "model1.add(Activation('relu')) \n",
    "model1.add(MaxPooling2D(pool_size=(2, 2))) \n",
    "  \n",
    "model1.add(Conv2D(32, (2, 2))) \n",
    "model1.add(Activation('relu')) \n",
    "model1.add(MaxPooling2D(pool_size=(2, 2))) \n",
    "  \n",
    "model1.add(Conv2D(64, (2, 2))) \n",
    "model1.add(Activation('relu')) \n",
    "model1.add(MaxPooling2D(pool_size=(2, 2))) \n",
    "  \n",
    "model1.add(Flatten()) \n",
    "model1.add(Dense(64)) \n",
    "model1.add(Activation('relu')) \n",
    "model1.add(Dropout(0.5)) \n",
    "model1.add(Dense(10)) \n",
    "model1.add(Activation('softmax')) \n",
    "\n",
    "\n",
    "\n",
    "data = pd.read_csv('train.csv')\n",
    "#reading the csv file\n",
    "X = []\n",
    "Y = data['y'];\n",
    "#storing the labels in Y\n",
    "del data['y']; \n",
    "#deleting the column 'y'\n",
    "#del data['c']\n",
    "\n",
    "# deleting the column 'Characters'\n",
    "for i in range(data.shape[0]):\n",
    "    #iterating over all the rows.\n",
    "    \n",
    "    flat_pixels = data.iloc[i].values[1:];\n",
    "    #extracting pixel values\n",
    "    image = np.reshape(flat_pixels, (28,28));\n",
    "    #reshaping to 28x28p\n",
    "    X.append(image) ;\n",
    "    #adding to input feature list\n",
    "\n",
    "\n",
    "\n",
    "\n",
    "# split the data into training (70%) and testing (30%)\n",
    "seed=1\n",
    "(X_train, X_test, Y_train, Y_test) = train_test_split(X, Y, test_size=0.10, random_state=seed);\n",
    "# one hot encode outputs\n",
    "Y_train = np_utils.to_categorical(Y_train);\n",
    "Y_test = np_utils.to_categorical(Y_test);\n",
    "#reshaping data\n",
    "X_train = np.array(X_train).reshape(-1,28,28,1);\n",
    "X_test  = np.array(X_test).reshape(-1,28,28,1);\n",
    "\n",
    "\n",
    "\n",
    "model1.compile(loss='categorical_crossentropy', optimizer='adam', metrics=['accuracy'])\n",
    "#performing fit\n",
    "model1.fit(X_train, Y_train, validation_data=(X_test, Y_test), epochs=6)\n",
    "# Final evaluation of the model\n",
    "scores = model1.evaluate(X_test,Y_test, verbose=0)\n",
    "print(\"CNN Error: %.2f%%\" % (100-scores[1]*100))\n",
    "\n"
   ]
  },
  {
   "cell_type": "code",
   "execution_count": null,
   "metadata": {
    "scrolled": true
   },
   "outputs": [],
   "source": [
    "import cv2\n",
    "import numpy as np\n",
    "import pandas as pd\n",
    "import keras\n",
    "from keras.models import Sequential\n",
    "from keras.layers import Dense\n",
    "from keras.layers import Dropout\n",
    "from keras.layers import Flatten, MaxPool2D\n",
    "from keras.layers.convolutional import Conv2D\n",
    "from keras.layers.convolutional import MaxPooling2D\n",
    "from keras import backend as K\n",
    "from keras.utils import np_utils\n",
    "from sklearn.model_selection import train_test_split\n",
    "from keras.layers import Activation\n",
    "model = Sequential() \n",
    "model.add(Conv2D(32, (5,5), input_shape=(28, 28, 1))) \n",
    "model.add(Activation('relu')) \n",
    "model.add(MaxPooling2D(pool_size=(2, 2))) \n",
    "  \n",
    "model.add(Conv2D(32, (2, 2))) \n",
    "model.add(Activation('relu')) \n",
    "model.add(MaxPooling2D(pool_size=(2, 2))) \n",
    "  \n",
    "model.add(Conv2D(64, (2, 2))) \n",
    "model.add(Activation('relu')) \n",
    "model.add(MaxPooling2D(pool_size=(2, 2))) \n",
    "  \n",
    "model.add(Flatten()) \n",
    "model.add(Dense(64)) \n",
    "model.add(Activation('relu')) \n",
    "model.add(Dropout(0.5)) \n",
    "model.add(Dense(37)) \n",
    "model.add(Activation('softmax')) \n",
    "\n",
    "\n",
    "\n",
    "data = pd.read_csv('image_data.csv')\n",
    "#reading the csv file\n",
    "X = []\n",
    "Y = data['y'];\n",
    "#storing the labels in Y\n",
    "del data['y']; \n",
    "#deleting the column 'y'\n",
    "del data['c']\n",
    "\n",
    "# deleting the column 'Characters'\n",
    "for i in range(data.shape[0]):\n",
    "    #iterating over all the rows.\n",
    "    \n",
    "    flat_pixels = data.iloc[i].values[1:];\n",
    "    #extracting pixel values\n",
    "    image = np.reshape(flat_pixels, (28,28));\n",
    "    #reshaping to 28x28p\n",
    "    X.append(image) ;\n",
    "    #adding to input feature list\n",
    "\n",
    "\n",
    "\n",
    "\n",
    "# split the data into training (70%) and testing (30%)\n",
    "seed=1\n",
    "(X_train, X_test, Y_train, Y_test) = train_test_split(X, Y, test_size=0.10, random_state=seed);\n",
    "# one hot encode outputs\n",
    "Y_train = np_utils.to_categorical(Y_train);\n",
    "Y_test = np_utils.to_categorical(Y_test);\n",
    "#reshaping data\n",
    "X_train = np.array(X_train).reshape(-1,28,28,1);\n",
    "X_test  = np.array(X_test).reshape(-1,28,28,1);\n",
    "\n",
    "\n",
    "\n",
    "model.compile(loss='categorical_crossentropy', optimizer='adam', metrics=['accuracy'])\n",
    "#performing fit\n",
    "model.fit(X_train, Y_train, validation_data=(X_test, Y_test),epochs=50, batch_size=200, verbose=2)\n",
    "# Final evaluation of the model\n",
    "scores = model.evaluate(X_test,Y_test, verbose=0)\n",
    "print(\"CNN Error: %.2f%%\" % (100-scores[1]*100))\n",
    "\n"
   ]
  },
  {
   "cell_type": "code",
   "execution_count": null,
   "metadata": {
    "scrolled": true
   },
   "outputs": [],
   "source": []
  },
  {
   "cell_type": "code",
   "execution_count": null,
   "metadata": {},
   "outputs": [],
   "source": [
    "def show_results2(image):\n",
    "    dic = {}\n",
    "    characters ='0123456789'\n",
    "    for i,c in enumerate(characters):\n",
    "        dic[i] = c\n",
    "\n",
    "    output = []\n",
    "    for i,ch in enumerate(image): #iterating over the characters\n",
    "        img = cv2.resize(ch, (28,28))\n",
    "        #img = fix_dimension(img_)\n",
    "        img = img.reshape(1,28,28,1) #preparing image for the model\n",
    "        y_ = model1.predict_classes(img)[0]\n",
    "        \n",
    "        #predicting the class\n",
    "        character = dic[y_] #\n",
    "        output.append(character) #storing the result in a list\n",
    "        \n",
    "    plate_number = ''.join(output)\n",
    "    \n",
    "    return plate_number\n",
    "\n",
    "print(show_results2(images2))"
   ]
  },
  {
   "cell_type": "code",
   "execution_count": null,
   "metadata": {},
   "outputs": [],
   "source": [
    "def show_results1(image):\n",
    "    dic = {}\n",
    "    characters =' ABCDEFGHIJKLMNOPQRSTUVWXYZ0123456789'\n",
    "    for i,c in enumerate(characters):\n",
    "        dic[i] = c\n",
    "\n",
    "    output = []\n",
    "    for i,ch in enumerate(image): #iterating over the characters\n",
    "        img = cv2.resize(ch, (28,28))\n",
    "        #img = fix_dimension(img_)\n",
    "        img = img.reshape(1,28,28,1) #preparing image for the model\n",
    "        y_ = model.predict_classes(img)[0]\n",
    "        \n",
    "        #predicting the class\n",
    "        character = dic[y_] #\n",
    "        output.append(character) #storing the result in a list\n",
    "        \n",
    "    plate_number = ''.join(output)\n",
    "    \n",
    "    return plate_number\n",
    "\n",
    "print(show_results1(images1))"
   ]
  },
  {
   "cell_type": "code",
   "execution_count": null,
   "metadata": {
    "scrolled": true
   },
   "outputs": [],
   "source": [
    "n = show_results1(images1)+show_results2(images2)+show_results1(images3)+show_results2(images4)\n",
    "print('Number plate:',n)"
   ]
  },
  {
   "cell_type": "code",
   "execution_count": null,
   "metadata": {},
   "outputs": [],
   "source": []
  }
 ],
 "metadata": {
  "kernelspec": {
   "display_name": "Python 3",
   "language": "python",
   "name": "python3"
  }
 },
 "nbformat": 4,
 "nbformat_minor": 2
}
